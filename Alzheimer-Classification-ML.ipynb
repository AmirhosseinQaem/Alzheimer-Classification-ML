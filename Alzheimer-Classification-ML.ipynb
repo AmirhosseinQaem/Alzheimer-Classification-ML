{
 "cells": [
  {
   "cell_type": "markdown",
   "id": "02bc2b2f-ae3b-4e61-af92-41d9de7ded9e",
   "metadata": {},
   "source": [
    "# مقایسه مدل‌های یادگیری ماشین برای پیش‌بینی بیماری آلزایمر\n",
    "\n",
    "این پروژه یک تحلیل کامل برای پیش‌بینی وضعیت زوال عقل (Demented/Nondemented) با استفاده از داده‌های کلینیکی و MRI از مجموعه داده OASIS است. در این پروژه، عملکرد چهار الگوریتم طبقه‌بندی محبوب مقایسه شده است.\n",
    "\n",
    "---\n",
    "\n",
    "### **مراحل انجام پروژه**\n",
    "فرآیند انجام این پروژه شامل مراحل کلیدی زیر است:"
   ]
  },
  {
   "cell_type": "markdown",
   "id": "f75a9ce6-fb79-41b8-a1ba-c92554573f68",
   "metadata": {},
   "source": [
    "۱. وارد کردن کتابخانه‌ها و بارگذاری داده‌ها\n",
    "در این بخش تمام کتابخانه‌های مورد نیاز برای پروژه وارد شده و دیتاست بارگذاری می‌شود."
   ]
  },
  {
   "cell_type": "code",
   "execution_count": null,
   "id": "de76e280-cf9b-4b39-b7c7-681474d0ea37",
   "metadata": {},
   "outputs": [],
   "source": [
    "# وارد کردن کتابخانه‌های اصلی برای کار با داده و مصورسازی\n",
    "import pandas as pd\n",
    "import numpy as np\n",
    "import matplotlib.pyplot as plt\n",
    "import seaborn as sns\n",
    "\n",
    "# وارد کردن مدل‌های یادگیری ماشین از Scikit-learn\n",
    "from sklearn.linear_model import LogisticRegression\n",
    "from sklearn.tree import DecisionTreeClassifier\n",
    "from sklearn.neighbors import KNeighborsClassifier\n",
    "from sklearn.svm import SVC\n",
    "\n",
    "# وارد کردن ابزارهای ارزیابی و آماده‌سازی داده\n",
    "from sklearn.model_selection import train_test_split\n",
    "from sklearn.preprocessing import LabelEncoder\n",
    "from sklearn.metrics import confusion_matrix, classification_report, roc_curve, auc, accuracy_score\n",
    "\n",
    "# بارگذاری دیتاست\n",
    "df = pd.read_csv(\"oasis_longitudinal.csv\")"
   ]
  },
  {
   "cell_type": "markdown",
   "id": "fd8c7376-738e-484f-9930-d5b8c1cf8fff",
   "metadata": {},
   "source": [
    "۲. کاوش و پاک‌سازی داده‌ها (Data Cleaning & Exploration)\n",
    "در این مرحله، نگاهی اولیه به داده‌ها می‌اندازیم، مقادیر گمشده را مدیریت می‌کنیم و داده‌ها را برای تحلیل آماده می‌سازیم."
   ]
  },
  {
   "cell_type": "code",
   "execution_count": null,
   "id": "8755c4a4-1650-41f0-9452-440d71fb6bdf",
   "metadata": {},
   "outputs": [],
   "source": [
    "# نمایش ۵ سطر اول دیتاست برای درک ساختار آن\n",
    "print(\"نمایش اولیه داده‌ها:\")\n",
    "display(df.head())\n",
    "\n",
    "# بررسی اطلاعات کلی دیتافریم مانند نوع داده‌ها و تعداد مقادیر غیرنال\n",
    "print(\"\\nاطلاعات کلی دیتافریم:\")\n",
    "df.info()\n",
    "\n",
    "# بررسی تعداد مقادیر گمشده (NaN) در هر ستون\n",
    "print(\"\\nتعداد مقادیر گمشده در هر ستون:\")\n",
    "print(df.isna().sum())\n",
    "\n",
    "# بررسی و حذف ردیف‌های تکراری (در این دیتاست تکراری وجود ندارد)\n",
    "print(f\"\\nتعداد ردیف‌های تکراری: {df.duplicated().sum()}\")\n",
    "\n",
    "# جایگزینی مقادیر گمشده در ستون SES با میانه (Median)\n",
    "# چون توزیع این ستون ممکن است چولگی داشته باشد، میانه انتخاب بهتری است\n",
    "df[\"SES\"].fillna(df[\"SES\"].median(), inplace=True)\n",
    "\n",
    "# جایگزینی مقادیر گمشده در ستون MMSE با میانگین (Mean)\n",
    "df[\"MMSE\"].fillna(df[\"MMSE\"].mean(), inplace=True)\n",
    "\n",
    "print(\"\\nتعداد مقادیر گمشده پس از پاک‌سازی:\")\n",
    "print(df.isna().sum())"
   ]
  },
  {
   "cell_type": "markdown",
   "id": "e4f13351-32d7-46a9-9978-e1dbadd5df1f",
   "metadata": {},
   "source": [
    "۳. مصورسازی و تحلیل داده‌ها (Data Visualization)\n",
    "در این بخش، با استفاده از نمودارها، توزیع و روابط بین متغیرها را بررسی می‌کنیم."
   ]
  },
  {
   "cell_type": "code",
   "execution_count": null,
   "id": "ba80a1da-2df6-4e0f-8161-6e166f72fc19",
   "metadata": {},
   "outputs": [],
   "source": [
    "# برای تحلیل، فقط اولین ویزیت هر فرد را در نظر می‌گیریم تا شمارش تکراری نداشته باشیم\n",
    "first_visit_df = df.loc[df['Visit'] == 1].copy()\n",
    "\n",
    "# جایگزینی برچسب 'Converted' با 'Demented'\n",
    "# افرادی که وضعیتشان به زوال عقل تغییر کرده، در نهایت در گروه دارای زوال عقل قرار می‌گیرند\n",
    "first_visit_df['Group'] = first_visit_df['Group'].replace('Converted', 'Demented')\n",
    "df['Group'] = df['Group'].replace('Converted', 'Demented')\n",
    "\n",
    "# رسم نمودار توزیع فراوانی گروه‌ها\n",
    "plt.figure(figsize=(8, 6))\n",
    "sns.countplot(x='Group', data=first_visit_df, palette='viridis')\n",
    "plt.title('Distribution of Individuals in Demented and Nondemented Groups', fontsize=14)\n",
    "plt.xlabel('Group', fontsize=12)\n",
    "plt.ylabel('Count', fontsize=12)\n",
    "plt.show()"
   ]
  },
  {
   "cell_type": "markdown",
   "id": "98e3ffca-53c3-400f-b547-ee46ea9082d7",
   "metadata": {},
   "source": [
    "تحلیل نمودار بالا:\n",
    "نمودار نشان می‌دهد که تعداد افراد در دو گروه \"Demented\" (دارای زوال عقل) و \"Nondemented\" (بدون زوال عقل) تقریباً متعادل است. این موضوع برای ساخت یک مدل پیش‌بینی‌کننده خوب، نکته مثبتی است."
   ]
  },
  {
   "cell_type": "code",
   "execution_count": null,
   "id": "e74521c3-0e6e-4654-a22a-02c260efc5db",
   "metadata": {},
   "outputs": [],
   "source": [
    "# مقایسه توزیع سنی دو گروه\n",
    "plt.figure(figsize=(12, 7))\n",
    "sns.kdeplot(data=df, x='Age', hue='Group', fill=True, palette='plasma')\n",
    "plt.title('Age Distribution Comparison of Demented and Nondemented Groups', fontsize=14)\n",
    "plt.xlabel('Age', fontsize=12)\n",
    "plt.ylabel('Density', fontsize=12)\n",
    "plt.xlim(50, 100)\n",
    "plt.legend(title='Group', labels=['Nondemented', 'Demented'])\n",
    "plt.show()"
   ]
  },
  {
   "cell_type": "markdown",
   "id": "4062cfdf-cd0b-4059-b36e-6343a216d253",
   "metadata": {},
   "source": [
    "تحلیل نمودار بالا:\n",
    "همانطور که مشاهده می‌شود، تراکم سنی افراد دارای زوال عقل (Demented) در بازه ۷۰ تا ۸۰ سال بیشتر است. همچنین، تعداد افراد بالای ۹۰ سال در گروه بدون زوال عقل (Nondemented) بیشتر به نظر می‌رسد که می‌تواند نشان‌دهنده طول عمر کمتر افراد مبتلا به آلزایمر باشد."
   ]
  },
  {
   "cell_type": "markdown",
   "id": "51eea34d-a844-4b02-839d-362a158e4443",
   "metadata": {},
   "source": [
    "۴. آماده‌سازی داده‌ها برای مدل‌سازی\n",
    "در این بخش، داده‌های دسته‌بندی را به فرمت عددی تبدیل کرده و مجموعه داده را به دو بخش آموزشی و آزمایشی تقسیم می‌کنیم."
   ]
  },
  {
   "cell_type": "code",
   "execution_count": null,
   "id": "e7bda1a7-37e4-48bc-bce1-3cf0f729f6ab",
   "metadata": {},
   "outputs": [],
   "source": [
    "# تبدیل متغیرهای متنی (دسته‌بندی) به عددی\n",
    "# مدل‌های یادگیری ماشین فقط با داده‌های عددی کار می‌کنند\n",
    "for column in ['M/F', 'Group', 'Hand']:\n",
    "    le = LabelEncoder()\n",
    "    df[column] = le.fit_transform(df[column])\n",
    "\n",
    "print(\"نمایش داده‌ها پس از تبدیل به فرمت عددی:\")\n",
    "display(df.head())\n",
    "\n",
    "# تعریف متغیرهای ویژگی (X) و متغیر هدف (y)\n",
    "feature_cols = [\"M/F\", \"Age\", \"EDUC\", \"SES\", \"MMSE\", \"eTIV\", \"nWBV\", \"ASF\"]\n",
    "X = df[feature_cols].values\n",
    "y = df['Group'].values\n",
    "\n",
    "# تقسیم داده‌ها به دو مجموعه آموزشی (70%) و آزمایشی (30%)\n",
    "X_train, X_test, y_train, y_test = train_test_split(X, y, test_size=0.30, random_state=42)\n",
    "\n",
    "print(f\"\\nاندازه مجموعه آموزشی: {X_train.shape}\")\n",
    "print(f\"اندازه مجموعه آزمایشی: {X_test.shape}\")"
   ]
  },
  {
   "cell_type": "markdown",
   "id": "8fb6b597-2b1f-42b4-a807-18482aeda848",
   "metadata": {},
   "source": [
    "۵. تعریف توابع ارزیابی مدل\n",
    "برای جلوگیری از تکرار کد، توابعی برای ارزیابی عملکرد مدل‌ها تعریف می‌کنیم. این توابع معیارهای مختلفی مانند ماتریس درهم‌ریختگی، دقت و نمودار ROC را محاسبه و نمایش می‌دهند."
   ]
  },
  {
   "cell_type": "code",
   "execution_count": null,
   "id": "881d135a-71bb-4da4-88c7-02e1002ac3a0",
   "metadata": {},
   "outputs": [],
   "source": [
    "def plot_confusion_matrix(y_true, y_pred):\n",
    "    \"\"\"این تابع ماتریس درهم‌ریختگی را رسم می‌کند.\"\"\"\n",
    "    cm = confusion_matrix(y_true, y_pred)\n",
    "    plt.figure(figsize=(6, 5))\n",
    "    sns.heatmap(cm, annot=True, fmt='d', cmap='Blues',\n",
    "                xticklabels=['Nondemented', 'Demented'],\n",
    "                yticklabels=['Nondemented', 'Demented'])\n",
    "    plt.title('ماتریس درهم‌ریختگی (Confusion Matrix)', fontsize=14)\n",
    "    plt.ylabel('برچسب واقعی', fontsize=12)\n",
    "    plt.xlabel('برچسب پیش‌بینی شده', fontsize=12)\n",
    "    plt.show()\n",
    "\n",
    "def plot_roc_curve(model, X_test, y_test):\n",
    "    \"\"\"این تابع نمودار ROC را برای مدل رسم می‌کند.\"\"\"\n",
    "    y_pred_proba = model.predict_proba(X_test)[:, 1]\n",
    "    fpr, tpr, thresholds = roc_curve(y_test, y_pred_proba)\n",
    "    roc_auc = auc(fpr, tpr)\n",
    "\n",
    "    plt.figure(figsize=(8, 6))\n",
    "    plt.plot(fpr, tpr, color='darkorange', lw=2, label=f'ROC curve (area = {roc_auc:.2f})')\n",
    "    plt.plot([0, 1], [0, 1], color='navy', lw=2, linestyle='--')\n",
    "    plt.xlim([0.0, 1.0])\n",
    "    plt.ylim([0.0, 1.05])\n",
    "    plt.xlabel('نرخ مثبت کاذب (False Positive Rate)', fontsize=12)\n",
    "    plt.ylabel('نرخ مثبت واقعی (True Positive Rate)', fontsize=12)\n",
    "    plt.title('منحنی ROC', fontsize=14)\n",
    "    plt.legend(loc=\"lower right\")\n",
    "    plt.show()\n",
    "\n",
    "def evaluate_model(model, X_test, y_test):\n",
    "    \"\"\"این تابع عملکرد کلی یک مدل را گزارش می‌دهد.\"\"\"\n",
    "    y_pred = model.predict(X_test)\n",
    "    \n",
    "    # گزارش طبقه‌بندی\n",
    "    print(\"گزارش طبقه‌بندی (Classification Report):\")\n",
    "    print(classification_report(y_test, y_pred, target_names=['Nondemented', 'Demented']))\n",
    "    \n",
    "    # دقت مدل\n",
    "    acc = accuracy_score(y_test, y_pred)\n",
    "    print(f\"دقت مدل (Accuracy): {acc:.4f}\\n\")\n",
    "    \n",
    "    # رسم ماتریس درهم‌ریختگی\n",
    "    plot_confusion_matrix(y_test, y_pred)\n",
    "    \n",
    "    # رسم نمودار ROC\n",
    "    # (برای مدل‌هایی که تابع predict_proba دارند)\n",
    "    if hasattr(model, \"predict_proba\"):\n",
    "        plot_roc_curve(model, X_test, y_test)\n",
    "        \n",
    "    return acc"
   ]
  },
  {
   "cell_type": "markdown",
   "id": "3be1824f-4f56-4f82-bc87-0b20c7661d65",
   "metadata": {},
   "source": [
    "۶. ساخت، آموزش و ارزیابی مدل‌ها\n",
    "در این بخش، مدل‌های مختلف یادگیری ماشین را بر روی داده‌های آموزشی، آموزش داده و سپس عملکرد آن‌ها را روی داده‌های آزمایشی ارزیابی می‌کنیم."
   ]
  },
  {
   "cell_type": "markdown",
   "id": "13bbdc61-818b-445e-a446-6ba346f9e4d3",
   "metadata": {},
   "source": [
    "۶.۱. رگرسیون لجستیک (Logistic Regression)"
   ]
  },
  {
   "cell_type": "code",
   "execution_count": null,
   "id": "996dfa8a-a3fa-4ad2-9ac7-d9ade2ff450a",
   "metadata": {},
   "outputs": [],
   "source": [
    "# ساخت و آموزش مدل رگرسیون لجستیک\n",
    "log_reg = LogisticRegression(solver='liblinear', max_iter=10000, random_state=42)\n",
    "log_reg.fit(X_train, y_train)\n",
    "\n",
    "# ارزیابی مدل\n",
    "print(\"=\"*15, \"Logistic Regression Evaluation\", \"=\"*15)\n",
    "accuracy_log_reg = evaluate_model(log_reg, X_test, y_test)"
   ]
  },
  {
   "cell_type": "markdown",
   "id": "fbf02efc-f5fd-4343-977b-708b77482c17",
   "metadata": {},
   "source": [
    "۶.۲. درخت تصمیم (Decision Tree)"
   ]
  },
  {
   "cell_type": "code",
   "execution_count": null,
   "id": "e9096f3b-a689-4051-b900-f66ed4ae037e",
   "metadata": {},
   "outputs": [],
   "source": [
    "# ساخت و آموزش مدل درخت تصمیم\n",
    "dec_tree = DecisionTreeClassifier(criterion='entropy', max_depth=5, random_state=42)\n",
    "dec_tree.fit(X_train, y_train)\n",
    "\n",
    "# ارزیابی مدل\n",
    "print(\"=\"*15, \"Decision Tree Evaluation\", \"=\"*15)\n",
    "accuracy_dec_tree = evaluate_model(dec_tree, X_test, y_test)"
   ]
  },
  {
   "cell_type": "markdown",
   "id": "d7ec7284-bb48-4e23-8047-b007406b5afd",
   "metadata": {},
   "source": [
    "۶.۳. ماشین بردار پشتیبان (SVM)"
   ]
  },
  {
   "cell_type": "code",
   "execution_count": null,
   "id": "b79516d9-f14b-450f-9935-06cf22ea2f83",
   "metadata": {},
   "outputs": [],
   "source": [
    "# ساخت و آموزش مدل SVM\n",
    "# probability=True برای رسم نمودار ROC ضروری است\n",
    "svm_model = SVC(kernel=\"linear\", C=0.1, probability=True, random_state=42)\n",
    "svm_model.fit(X_train, y_train)\n",
    "\n",
    "# ارزیابی مدل\n",
    "print(\"=\"*15, \"Support Vector Machine (SVM) Evaluation\", \"=\"*15)\n",
    "accuracy_svm = evaluate_model(svm_model, X_test, y_test)"
   ]
  },
  {
   "cell_type": "markdown",
   "id": "7a5c98cd-6043-4f1d-82e0-d4a1ad2c9c92",
   "metadata": {},
   "source": [
    "۶.۴. k-نزدیک‌ترین همسایه (KNN)"
   ]
  },
  {
   "cell_type": "code",
   "execution_count": null,
   "id": "3ed591a5-a72a-4b18-abd2-e6421bbe8619",
   "metadata": {},
   "outputs": [],
   "source": [
    "# ساخت و آموزش مدل KNN\n",
    "knn_model = KNeighborsClassifier(n_neighbors=5)\n",
    "knn_model.fit(X_train, y_train)\n",
    "\n",
    "# ارزیابی مدل\n",
    "print(\"=\"*15, \"ارزیابی k-نزدیک‌ترین همسایه\", \"=\"*15)\n",
    "accuracy_knn = evaluate_model(knn_model, X_test, y_test)"
   ]
  },
  {
   "cell_type": "markdown",
   "id": "fda725e8-3581-4818-8568-9ddc26bb3348",
   "metadata": {},
   "source": [
    "۷. مقایسه نهایی مدل‌ها\n",
    "در نهایت، دقت مدل‌های مختلف را در کنار هم مقایسه می‌کنیم تا بهترین مدل را برای این مسئله شناسایی کنیم."
   ]
  },
  {
   "cell_type": "code",
   "execution_count": 90,
   "id": "f0de9ebf-3769-4e95-911e-0d0a3308fbcf",
   "metadata": {},
   "outputs": [
    {
     "data": {
      "image/png": "[encoded data removed]",
      "text/plain": [
       "<Figure size 1000x700 with 1 Axes>"
      ]
     },
     "metadata": {},
     "output_type": "display_data"
    },
    {
     "name": "stdout",
     "output_type": "stream",
     "text": [
      "\n",
      "جدول مقایسه دقت مدل‌ها:\n"
     ]
    },
    {
     "data": {
      "text/html": [
       "<div>\n",
       "<style scoped>\n",
       "    .dataframe tbody tr th:only-of-type {\n",
       "        vertical-align: middle;\n",
       "    }\n",
       "\n",
       "    .dataframe tbody tr th {\n",
       "        vertical-align: top;\n",
       "    }\n",
       "\n",
       "    .dataframe thead th {\n",
       "        text-align: right;\n",
       "    }\n",
       "</style>\n",
       "<table border=\"1\" class=\"dataframe\">\n",
       "  <thead>\n",
       "    <tr style=\"text-align: right;\">\n",
       "      <th></th>\n",
       "      <th>Model</th>\n",
       "      <th>Accuracy</th>\n",
       "    </tr>\n",
       "  </thead>\n",
       "  <tbody>\n",
       "    <tr>\n",
       "      <th>1</th>\n",
       "      <td>Decision Tree</td>\n",
       "      <td>0.776786</td>\n",
       "    </tr>\n",
       "    <tr>\n",
       "      <th>2</th>\n",
       "      <td>SVM</td>\n",
       "      <td>0.776786</td>\n",
       "    </tr>\n",
       "    <tr>\n",
       "      <th>3</th>\n",
       "      <td>KNN</td>\n",
       "      <td>0.723214</td>\n",
       "    </tr>\n",
       "    <tr>\n",
       "      <th>0</th>\n",
       "      <td>Logistic Regression</td>\n",
       "      <td>0.687500</td>\n",
       "    </tr>\n",
       "  </tbody>\n",
       "</table>\n",
       "</div>"
      ],
      "text/plain": [
       "                 Model  Accuracy\n",
       "1        Decision Tree  0.776786\n",
       "2                  SVM  0.776786\n",
       "3                  KNN  0.723214\n",
       "0  Logistic Regression  0.687500"
      ]
     },
     "metadata": {},
     "output_type": "display_data"
    }
   ],
   "source": [
    "# ایجاد یک دیتافریم برای مقایسه دقت مدل‌ها\n",
    "model_accuracies = {\n",
    "    'Logistic Regression': accuracy_log_reg,\n",
    "    'Decision Tree': accuracy_dec_tree,\n",
    "    'SVM': accuracy_svm,\n",
    "    'KNN': accuracy_knn\n",
    "}\n",
    "\n",
    "accuracy_df = pd.DataFrame(list(model_accuracies.items()), columns=['Model', 'Accuracy'])\n",
    "accuracy_df = accuracy_df.sort_values(by='Accuracy', ascending=False)\n",
    "\n",
    "# رسم نمودار مقایسه‌ای\n",
    "plt.figure(figsize=(10, 7))\n",
    "sns.barplot(x='Accuracy', y='Model', data=accuracy_df, palette='magma')\n",
    "plt.title('Comparison of Different Model Accuracies', fontsize=16)\n",
    "plt.xlabel('Accuracy', fontsize=12)\n",
    "plt.ylabel('Model', fontsize=12)\n",
    "plt.xlim(0.6, 0.85) # تنظیم بازه محور x برای نمایش بهتر تفاوت‌ها\n",
    "plt.show()\n",
    "\n",
    "print(\"\\nجدول مقایسه دقت مدل‌ها:\")\n",
    "display(accuracy_df)"
   ]
  },
  {
   "cell_type": "markdown",
   "id": "d2dfe321-a90d-4987-a5e8-47a5a0cb870d",
   "metadata": {},
   "source": [
    "نتیجه‌گیری نهایی:\n",
    "بر اساس نمودار و جدول بالا، می‌توان مشاهده کرد که مدل‌های رگرسیون لجستیک و ماشین بردار پشتیبان (SVM) بهترین عملکرد را با دقت‌های مشابه در این مسئله از خود نشان داده‌اند. مدل درخت تصمیم نیز عملکرد خوبی داشته، در حالی که مدل KNN کمترین دقت را ثبت کرده است."
   ]
  },
  {
   "cell_type": "code",
   "execution_count": null,
   "id": "f9c2a9e0-9bca-4722-914b-5a0a7da5a354",
   "metadata": {},
   "outputs": [],
   "source": []
  },
  {
   "cell_type": "code",
   "execution_count": null,
   "id": "ae9ecae7-05d4-496a-90f8-2ee626333a20",
   "metadata": {},
   "outputs": [],
   "source": []
  }
 ],
 "metadata": {
  "kernelspec": {
   "display_name": "Python 3 (ipykernel)",
   "language": "python",
   "name": "python3"
  },
  "language_info": {
   "codemirror_mode": {
    "name": "ipython",
    "version": 3
   },
   "file_extension": ".py",
   "mimetype": "text/x-python",
   "name": "python",
   "nbconvert_exporter": "python",
   "pygments_lexer": "ipython3",
   "version": "3.11.7"
  }
 },
 "nbformat": 4,
 "nbformat_minor": 5
}
